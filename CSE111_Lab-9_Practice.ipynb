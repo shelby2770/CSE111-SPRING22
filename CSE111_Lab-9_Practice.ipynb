{
 "cells": [
  {
   "cell_type": "code",
   "execution_count": 11,
   "id": "a951075c",
   "metadata": {},
   "outputs": [
    {
     "name": "stdout",
     "output_type": "stream",
     "text": [
      "**********************\n",
      "Player Name: Buffon\n",
      "Player Season Earning without bonus: 250000\n",
      "Bonus: 0\n",
      "Player Season Earning After Bonus: 250000\n",
      "\n",
      "**********************\n",
      "Player Name: Dybala\n",
      "Player Season Earning without bonus: 250000\n",
      "Bonus: 22500\n",
      "Player Season Earning After Bonus: 272500\n",
      "\n",
      "**********************\n",
      "Player Name: Cuadrado\n",
      "Player Season Earning without bonus: 250000\n",
      "Bonus: 12500\n",
      "Player Season Earning After Bonus: 262500\n"
     ]
    }
   ],
   "source": [
    "#TASK 1\n",
    "# from abc import ABC, abstractmethod\n",
    "class PlayerEarning:\n",
    "    def __init__(self, name):\n",
    "        self.name= name\n",
    "        \n",
    "    def calculateTotal(self, amount, goal_no= 0):\n",
    "        self.amount= amount\n",
    "        if goal_no== 0:\n",
    "            self.bonus= 0\n",
    "            self.total_amount= self.amount\n",
    "        elif goal_no>30:\n",
    "            self.bonus= (5/100)*self.amount+ 10000\n",
    "            self.total_amount= self.amount+ self.bonus\n",
    "        else:\n",
    "            self.bonus= (5/100)*self.amount\n",
    "            self.total_amount= self.amount+ self.bonus\n",
    "            \n",
    "    def printDetails(self):\n",
    "        print(f\"Player Name: {self.name}\\nPlayer Season Earning without bonus: {self.amount}\\n\\\n",
    "Bonus: {self.bonus:.0f}\\nPlayer Season Earning After Bonus: {self.total_amount:.0f}\")\n",
    "        \n",
    "    \n",
    "print(\"**********************\")\n",
    "player1 = PlayerEarning('Buffon')\n",
    "player1.calculateTotal(250000)\n",
    "player1.printDetails()\n",
    "\n",
    "print(\"\\n**********************\")\n",
    "player2 = PlayerEarning('Dybala')\n",
    "player2.calculateTotal(250000,31)\n",
    "player2.printDetails()\n",
    "\n",
    "print(\"\\n**********************\")\n",
    "player3 =PlayerEarning('Cuadrado')\n",
    "player3.calculateTotal(250000,20)\n",
    "player3.printDetails()"
   ]
  },
  {
   "cell_type": "code",
   "execution_count": 21,
   "id": "22ffc466",
   "metadata": {},
   "outputs": [
    {
     "name": "stdout",
     "output_type": "stream",
     "text": [
      "Sum: 20\n",
      "Sum: 38\n",
      "Average: 4.75\n",
      "-----------------------------\n",
      "Average: 0\n",
      "Sum: 15\n"
     ]
    }
   ],
   "source": [
    "#TASK 2\n",
    "class myList:\n",
    "    def __init__(self, *num):\n",
    "        self.list_1= []\n",
    "        for i in num:\n",
    "            self.list_1.append(i)\n",
    "        \n",
    "    def sum(self):\n",
    "        sum= 0\n",
    "        for i in self.list_1:\n",
    "            sum+= i\n",
    "        print(\"Sum:\", sum)\n",
    "        \n",
    "    def merge(self, *num):\n",
    "        for i in num:\n",
    "            self.list_1.append(i)\n",
    "        \n",
    "    def average(self):\n",
    "        sum= 0\n",
    "        counter= 0\n",
    "        for i in self.list_1:\n",
    "            sum+= i\n",
    "            counter+= 1\n",
    "        if counter!= 0:    \n",
    "            print(\"Average:\", sum/counter)    \n",
    "        else:\n",
    "            print(\"Average:\", 0) \n",
    "\n",
    "\n",
    "\n",
    "l1 = myList(2,3,4,5,6) #you might need a list inside your class to store the values\n",
    "l1.sum()\n",
    "l1.merge(4,5,9)\n",
    "l1.sum()\n",
    "l1.average()\n",
    "print(\"-----------------------------\")\n",
    "l2 = myList()\n",
    "l2.average()\n",
    "l2.merge(1,2,4,8)\n",
    "l2.sum()"
   ]
  },
  {
   "cell_type": "code",
   "execution_count": null,
   "id": "6cb852a4",
   "metadata": {},
   "outputs": [],
   "source": [
    "#TASK 3\n"
   ]
  }
 ],
 "metadata": {
  "kernelspec": {
   "display_name": "Python 3 (ipykernel)",
   "language": "python",
   "name": "python3"
  },
  "language_info": {
   "codemirror_mode": {
    "name": "ipython",
    "version": 3
   },
   "file_extension": ".py",
   "mimetype": "text/x-python",
   "name": "python",
   "nbconvert_exporter": "python",
   "pygments_lexer": "ipython3",
   "version": "3.9.7"
  }
 },
 "nbformat": 4,
 "nbformat_minor": 5
}
