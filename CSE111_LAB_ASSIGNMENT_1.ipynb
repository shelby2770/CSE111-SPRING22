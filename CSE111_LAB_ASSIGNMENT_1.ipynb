{
 "cells": [
  {
   "cell_type": "code",
   "execution_count": 1,
   "id": "fb92a1db",
   "metadata": {},
   "outputs": [
    {
     "name": "stdout",
     "output_type": "stream",
     "text": [
      "ApplE\n",
      "apple\n"
     ]
    }
   ],
   "source": [
    "#TASK 1\n",
    "str_1 = input()\n",
    "\n",
    "counter1 = 0\n",
    "counter2 = 0\n",
    "for i in str_1:\n",
    "    if 65<=ord(i)<=90:\n",
    "        counter1+=1\n",
    "    elif 97<=ord(i)<=122:\n",
    "        counter2+=1\n",
    "\n",
    "counter3 = \"\"\n",
    "if counter1>counter2:\n",
    "    for i in str_1:\n",
    "        if 97<=ord(i)<=122:\n",
    "            i = chr(ord(i)-32)\n",
    "            counter3+= i\n",
    "        elif 65<=ord(i)<=90:\n",
    "            counter3+= i\n",
    "\n",
    "else:\n",
    "    for i in str_1:\n",
    "        if 97<=ord(i)<=122:\n",
    "            counter3+= i\n",
    "        elif 65<=ord(i)<=90:\n",
    "            i = chr(ord(i)+32)\n",
    "            counter3+= i  \n",
    "print(counter3)            "
   ]
  },
  {
   "cell_type": "code",
   "execution_count": 7,
   "id": "95ef8e11",
   "metadata": {},
   "outputs": [
    {
     "name": "stdout",
     "output_type": "stream",
     "text": [
      "Hello\n",
      "WORD\n"
     ]
    }
   ],
   "source": [
    "#TASK 2\n",
    "str_1 = input()\n",
    "counter= \"\"\n",
    "for i in str_1:\n",
    "    if 48<=ord(i)<=57:\n",
    "        counter+= \"n\"\n",
    "    else:\n",
    "        counter+= \"w\"\n",
    "        \n",
    "# if \"w\" in counter or \"n\" in counter:\n",
    "if \"w\" in counter and \"n\" in counter:\n",
    "    print(\"MIXED\")\n",
    "elif \"w\" in counter:\n",
    "    print(\"WORD\")\n",
    "elif \"n\" in counter:\n",
    "    print(\"NUMBER\")\n",
    "        \n",
    "    \n",
    "# len1 = len(str_1)\n",
    "# counter1 = 0\n",
    "# counter2 = 0\n",
    "# counter3 = 0\n",
    "# for i in str_1:\n",
    "#     if 65<=ord(i)<=90 or 97<=ord(i)<=122 or 48<=ord(i)<=57:\n",
    "#         if 65<=ord(i)<=90 or 97<=ord(i)<=122:\n",
    "#             counter1 += 1\n",
    "#         if 48<=ord(i)<=57:\n",
    "#             counter2 += 1\n",
    "#         if 65<=ord(i)<=90 or 97<=ord(i)<=122 or 48<=ord(i)<=57:    \n",
    "#             counter3 += 1\n",
    "\n",
    "# if counter1 == len1:\n",
    "#     print(\"WORD\")\n",
    "# if counter2 == len1:\n",
    "#     print(\"NUMBER\")\n",
    "# if counter3 == len1 and counter1 != len1 and counter2 != len1:\n",
    "#     print(\"MIXED\")"
   ]
  },
  {
   "cell_type": "code",
   "execution_count": 9,
   "id": "60d12007",
   "metadata": {},
   "outputs": [
    {
     "name": "stdout",
     "output_type": "stream",
     "text": [
      "coDIng\n",
      "BLANK\n"
     ]
    }
   ],
   "source": [
    "#TASK 3\n",
    "str_1 = input()\n",
    "str_2= \"\"\n",
    "for i in str_1:\n",
    "    if 65<=ord(i)<=90 and str_2== \"\":\n",
    "        str_2+= i\n",
    "    elif 65<=ord(i)<=90 and str_2!= \"\":\n",
    "        str_2+= i\n",
    "        break\n",
    "    elif 97<=ord(i)<=122 and str_2!= \"\":\n",
    "        str_2+= i\n",
    "\n",
    "if len(str_2)== 2:\n",
    "    print('BLANK')\n",
    "else:\n",
    "    print(str_2[1:-1])\n",
    "# str_2 = ''\n",
    "# for i in str_1:\n",
    "#     if 97<=ord(i)<=122:\n",
    "#         str_2 += i\n",
    "#     elif 65<=ord(i)<=90:\n",
    "#             break\n",
    "\n",
    "# str_3 = str_1[len(str_2)+1:]\n",
    "\n",
    "# str_4 = ''\n",
    "# for i in str_3:\n",
    "#     if 97<=ord(i)<=122:\n",
    "#         str_4 += i\n",
    "#     elif 65<=ord(i)<=90:\n",
    "#             break\n",
    "\n",
    "# if len(str_4)>0:\n",
    "#     print(str_4)\n",
    "# elif len(str_4)==0:\n",
    "#     print(\"BLANK\")"
   ]
  },
  {
   "cell_type": "code",
   "execution_count": 1,
   "id": "f0c2d037",
   "metadata": {},
   "outputs": [
    {
     "name": "stdout",
     "output_type": "stream",
     "text": [
      "The book is not too good!\n",
      "The book is not excellent\n"
     ]
    }
   ],
   "source": [
    "# using built-in function\n",
    "# str_1 = input()\n",
    "\n",
    "# if \"too good\" in str_1:\n",
    "#     print(str_1.replace(\"too good\", \"excellent\"))\n",
    "# else:\n",
    "#     print(str_1)\n",
    "   \n",
    "str_2 = input()\n",
    "if \"too good\" in str_2:\n",
    "    index = (str_2.find(\"too good\"))\n",
    "    str_2a = \"\"\n",
    "    for i in range(index):\n",
    "        str_2a += str_2[i]  \n",
    "    print(str_2a + \"excellent\") \n",
    "else:\n",
    "    print(str_2)"
   ]
  },
  {
   "cell_type": "code",
   "execution_count": 7,
   "id": "77e0d23b",
   "metadata": {},
   "outputs": [
    {
     "name": "stdout",
     "output_type": "stream",
     "text": [
      "harry, hermione\n",
      "hrrhr"
     ]
    }
   ],
   "source": [
    "#TASK 4\n",
    "str_1 = input()\n",
    "\n",
    "str_3 = \"\"\n",
    "for i in str_1:\n",
    "    if i == \",\":\n",
    "        break\n",
    "    else:\n",
    "        str_3+= i\n",
    "        \n",
    "str_4 = str_1[len(str_3)+2:]     \n",
    "\n",
    "counter = 0\n",
    "for i in str_3:\n",
    "    if i in str_4:\n",
    "        counter += 1\n",
    "        print(i, end = \"\")\n",
    "if counter == 0:\n",
    "    print(\"Nothing in common.\")\n",
    "\n",
    "for i in str_4:\n",
    "    if i in str_3:\n",
    "        print(i, end = \"\")    "
   ]
  },
  {
   "cell_type": "code",
   "execution_count": 13,
   "id": "6140731e",
   "metadata": {},
   "outputs": [
    {
     "name": "stdout",
     "output_type": "stream",
     "text": [
      "OhMyBR@CU20\n",
      "OK\n"
     ]
    }
   ],
   "source": [
    " #TASK 5\n",
    "# str_1 = input()\n",
    "\n",
    "# counter1 = 0\n",
    "# counter2 = 0\n",
    "# counter3 = 0\n",
    "# counter4 = 0\n",
    "\n",
    "# for i in str_1:\n",
    "#     if 32<=ord(i)<=126:\n",
    "#         if ord(i) in range(97,122+1):\n",
    "#             counter1+= 1\n",
    "#         elif ord(i) in range(65,90+1):\n",
    "#             counter2+= 1\n",
    "#         elif ord(i) in range(48,57+1):\n",
    "#             counter3+= 1\n",
    "#         else:\n",
    "#             counter4+= 1\n",
    "            \n",
    "# if counter1 != 0 and counter2 != 0 and counter3 != 0 and counter4 != 0:\n",
    "#     print(\"OK\")\n",
    "    \n",
    "# if counter1 == 0 and (counter2 == 0 or counter3 ==0 or counter4 == 0):\n",
    "#     print(\"Lowercase character missing\", \", \", sep = \"\", end = \"\")\n",
    "# if counter1 == 0 and (counter2 != 0 and counter3 !=0 and counter4 != 0):\n",
    "#     print(\"Lowercase character missing\")  \n",
    "    \n",
    "# if counter2 == 0 and (counter3 ==0 or counter4 == 0):\n",
    "#     print(\"Uppercase character missing\", \", \", sep = \"\", end = \"\")\n",
    "# if counter2 == 0 and (counter3 !=0 or counter4 != 0):\n",
    "#     print(\"Uppercase character missing\")\n",
    "    \n",
    "# if counter3 == 0 and counter4 == 0:\n",
    "#     print(\"Digit missing\", \", \", sep = \"\", end = \"\")\n",
    "# if counter3 == 0 and counter4 != 0:\n",
    "#     print(\"Digit missing\")\n",
    "    \n",
    "# if counter4 == 0:\n",
    "#     print(\"Special character missing\")\n",
    "\n",
    "str_1= input()\n",
    "sc=cl=sl=num=0\n",
    "for i in str_1:\n",
    "    if 48<=ord(i)<=57:\n",
    "        num= 1\n",
    "    elif 65<=ord(i)<=90:\n",
    "        cl= 1\n",
    "    elif 97<=ord(i)<=122:\n",
    "        sl= 1\n",
    "    else:\n",
    "        sc= 1\n",
    "\n",
    "result= \"\"\n",
    "if sc and cl and sl and num:\n",
    "    result=\"OK, \"\n",
    "if sl==0:\n",
    "    result+= \"Lowercase character missing, \"\n",
    "if cl==0:\n",
    "    result+= \"Uppercase character missing, \"\n",
    "if num==0:\n",
    "    result+= \"Digit missing, \"\n",
    "if sc==0:\n",
    "    result+= \"Special character missing, \"\n",
    "print(result[:-2])    "
   ]
  },
  {
   "cell_type": "code",
   "execution_count": 1,
   "id": "1cfcedb6",
   "metadata": {},
   "outputs": [],
   "source": [
    "####################################List############################################"
   ]
  },
  {
   "cell_type": "code",
   "execution_count": 1,
   "id": "9721ff5b",
   "metadata": {},
   "outputs": [
    {
     "name": "stdout",
     "output_type": "stream",
     "text": [
      "10\n",
      "20\n",
      "20\n",
      "30\n",
      "10\n",
      "50\n",
      "90\n",
      "STOP\n",
      "10 - 2 times\n",
      "20 - 2 times\n",
      "30 - 1 times\n",
      "50 - 1 times\n",
      "90 - 1 times\n"
     ]
    }
   ],
   "source": [
    "#TASK 1\n",
    "# list_1 = []\n",
    "# str_1 = input()\n",
    "# while str_1 != \"STOP\":\n",
    "#     list_1.append(int(str_1))\n",
    "#     str_1 = input()\n",
    "# freq_1 = {}\n",
    "# for i in list_1:\n",
    "#     if i in freq_1:\n",
    "#         freq_1[i]+= 1\n",
    "#     else:\n",
    "#         freq_1[i] = 1    \n",
    "        \n",
    "# for key, value in freq_1.items():\n",
    "#     print (key,\"-\",value,\"times\")\n",
    "    \n",
    "list_1 = []\n",
    "str_1 = input()\n",
    "while str_1 != \"STOP\":\n",
    "    list_1.append(int(str_1))\n",
    "    str_1 = input()\n",
    "\n",
    "list_2= []\n",
    "list_3= []\n",
    "for i in range(len(list_1)):\n",
    "    if list_1[i] in list_2:\n",
    "        for j in range(len(list_3)):\n",
    "            if list_3[j][0]== list_1[i]:\n",
    "                list_3[j][1]+= 1\n",
    "\n",
    "    else:\n",
    "        list_2.append(list_1[i])\n",
    "        list_3.append([list_1[i],1])\n",
    "\n",
    "for i in range(len(list_3)):\n",
    "    print((list_3[i][0]), \"-\", (list_3[i][1]), \"times\")    "
   ]
  },
  {
   "cell_type": "code",
   "execution_count": 1,
   "id": "02e075f4",
   "metadata": {},
   "outputs": [
    {
     "name": "stdout",
     "output_type": "stream",
     "text": [
      "4\n",
      "1 2 3\n",
      "4 5 6\n",
      "10 11 12\n",
      "7 8 9\n",
      "33\n",
      "[10, 11, 12]\n"
     ]
    }
   ],
   "source": [
    "#TASK 2\n",
    "import math\n",
    "num = int(input())\n",
    "list_1 = []\n",
    "for i in range(num):\n",
    "    list_2 = input()\n",
    "    list_1.append(list_2) \n",
    "\n",
    "checker = (-1)*math.inf\n",
    "list_3 = []\n",
    "for i in list_1:\n",
    "    list_2 = i.split()\n",
    "    sum = 0\n",
    "    for j in list_2:\n",
    "        sum+=int(j)\n",
    "    if sum>checker: \n",
    "        list_3 = i\n",
    "        checker = sum\n",
    "        \n",
    "list_3 = \"[\" + list_3 + \"]\"\n",
    "print(checker)        \n",
    "print(list_3.replace(\" \", \", \"))"
   ]
  },
  {
   "cell_type": "code",
   "execution_count": 19,
   "id": "5ef0b564",
   "metadata": {},
   "outputs": [
    {
     "name": "stdout",
     "output_type": "stream",
     "text": [
      "20 3 6\n",
      "3 4 5\n",
      "[60, 80, 100, 9, 12, 15, 18, 24, 30]\n"
     ]
    }
   ],
   "source": [
    "#TASK 3\n",
    "str_1 = input()\n",
    "str_2 = input()\n",
    "list_1 = str_1.split()\n",
    "list_2 = str_2.split()\n",
    "list_3 = []\n",
    "\n",
    "for i in list_1:  \n",
    "    for j in list_2:    \n",
    "        prod = int(i)*int(j)\n",
    "        list_3.append(prod)\n",
    "print(list_3)"
   ]
  },
  {
   "cell_type": "code",
   "execution_count": 2,
   "id": "b8eb8b22",
   "metadata": {},
   "outputs": [
    {
     "name": "stdout",
     "output_type": "stream",
     "text": [
      "1 4 2 3\n",
      "UB Jumper\n",
      "2 1 4 6 10\n",
      "UB Jumper\n",
      "1 4 2 -1 6\n",
      "Not UB Jumper\n",
      "STOP\n"
     ]
    }
   ],
   "source": [
    "#TASK 4\n",
    "while True:\n",
    "    str_1 = input()\n",
    "    if str_1 == \"STOP\":\n",
    "        break\n",
    "    else:\n",
    "        list_1 = str_1.split()\n",
    "        checker = int(list_1[0])\n",
    "        flag = True\n",
    "        \n",
    "        for i in list_1:\n",
    "            if i == list_1[0]:\n",
    "                    continue\n",
    "            else:\n",
    "                diff_1 = checker-int(i)\n",
    "                diff_2 = int(i)-checker\n",
    "                checker = int(i)\n",
    "                if diff_1>len(list_1) or diff_2>len(list_1):\n",
    "                    flag = False\n",
    "                    break\n",
    "                else:\n",
    "                    flag = True\n",
    "\n",
    "        if flag == True:\n",
    "            print(\"UB Jumper\")\n",
    "        if flag == False:\n",
    "            print(\"Not UB Jumper\")"
   ]
  },
  {
   "cell_type": "code",
   "execution_count": 71,
   "id": "fbff5218",
   "metadata": {},
   "outputs": [
    {
     "name": "stdout",
     "output_type": "stream",
     "text": [
      "Bracu1234\n",
      "acruB1324\n"
     ]
    }
   ],
   "source": [
    "#TASK 5\n",
    "str_1 = input()\n",
    "\n",
    "list_lc = []\n",
    "list_uc = []\n",
    "list_on = []\n",
    "list_en = []\n",
    "\n",
    "\n",
    "for i in str_1:\n",
    "    if 92<=ord(i)<=122:\n",
    "        list_lc.append(i)\n",
    "    if 65<=ord(i)<=90:\n",
    "        list_uc.append(i) \n",
    "    if i%!= 0:\n",
    "        list_on.append(i)\n",
    "    if i%2== 0:\n",
    "        list_en.append(i)\n",
    "        \n",
    "list_lc.sort()\n",
    "list_uc.sort()\n",
    "list_on.sort()\n",
    "list_en.sort()\n",
    "\n",
    "list_1 = list_lc + list_uc + list_on + list_en\n",
    "\n",
    "str_2 = \"\"\n",
    "for i in list_1:\n",
    "    if \"[\" == i or \"'\" == i or \"]\" == i or \",\" == i or \" \" == i:\n",
    "        continue\n",
    "    else:  \n",
    "        str_2+= i\n",
    "print(str_2)        "
   ]
  },
  {
   "cell_type": "code",
   "execution_count": 77,
   "id": "786527b8",
   "metadata": {},
   "outputs": [
    {
     "name": "stdout",
     "output_type": "stream",
     "text": [
      "6 4\n",
      "0 1 2 3 4 5\n",
      "0\n"
     ]
    }
   ],
   "source": [
    "#TASK 6\n",
    "str_1 = input()\n",
    "str_2 = input()\n",
    "\n",
    "counter = 0\n",
    "\n",
    "for i in str_2:\n",
    "    if i == \" \":\n",
    "        continue\n",
    "    elif (int(i)+int(str_1[2]))>5:    \n",
    "        continue\n",
    "    else:\n",
    "        counter+=1\n",
    "                \n",
    "print(counter//3)           "
   ]
  },
  {
   "cell_type": "code",
   "execution_count": 78,
   "id": "8ebadb00",
   "metadata": {},
   "outputs": [],
   "source": [
    "####################################DICTIONARY & TUPLE############################################"
   ]
  },
  {
   "cell_type": "code",
   "execution_count": 2,
   "id": "25d52e48",
   "metadata": {},
   "outputs": [
    {
     "name": "stdout",
     "output_type": "stream",
     "text": [
      "a: 100, b: 100, c: 200, d: 300\n",
      "a: 300, b: 200, d: 400, e: 200\n",
      "{'a': 400, 'b': 300, 'c': 200, 'd': 700, 'e': 200}\n",
      "Values: (200, 200, 300, 400, 700)\n"
     ]
    }
   ],
   "source": [
    "#TASK 1\n",
    "list_1= input().split(\", \")\n",
    "dict_1= {}\n",
    "for i in list_1:\n",
    "    if \":\" in i:\n",
    "        list_2= i.split(\": \")\n",
    "        dict_1[list_2[0]]= int(list_2[1])\n",
    "        \n",
    "list_2= input().split(\", \")\n",
    "dict_2= {}\n",
    "for j in list_2:\n",
    "    if \":\" in j:\n",
    "        list_3= j.split(\": \")\n",
    "        dict_2[list_3[0]]= int(list_3[1])\n",
    "        \n",
    "dict_3= {}\n",
    "for i,j in dict_2.items():\n",
    "    if i not in dict_1:\n",
    "        dict_1[i]= j\n",
    "    else:\n",
    "        dict_1[i]+= j\n",
    "print(dict_1)        \n",
    "\n",
    "list_3= []            \n",
    "for i in dict_1.values():\n",
    "    list_3.append(i)\n",
    "        \n",
    "print(\"Values:\", tuple(sorted(list_3)))   "
   ]
  },
  {
   "cell_type": "code",
   "execution_count": 9,
   "id": "84adeafc",
   "metadata": {},
   "outputs": [
    {
     "name": "stdout",
     "output_type": "stream",
     "text": [
      "10\n",
      "20\n",
      "20\n",
      "30\n",
      "10\n",
      "50\n",
      "90\n",
      "STOP\n",
      "10 - 2 times\n",
      "20 - 2 times\n",
      "30 - 1 times\n",
      "50 - 1 times\n",
      "90 - 1 times\n"
     ]
    }
   ],
   "source": [
    "#TASK 2\n",
    "list_1 = []\n",
    "str_1 = input()\n",
    "while str_1 != \"STOP\":\n",
    "    list_1.append(int(str_1))\n",
    "    str_1 = input()\n",
    "freq_1 = {}\n",
    "for i in list_1:\n",
    "    if i in freq_1:\n",
    "        freq_1[i]+= 1\n",
    "    else:\n",
    "        freq_1[i] = 1    \n",
    "        \n",
    "for key, value in freq_1.items():\n",
    "    print (key,\"-\",value,\"times\")"
   ]
  },
  {
   "cell_type": "code",
   "execution_count": 24,
   "id": "b2749a72",
   "metadata": {},
   "outputs": [
    {
     "name": "stdout",
     "output_type": "stream",
     "text": [
      "key1 : value1, key2 : value2, key3 : value1\n",
      "{'value1': ['key1', 'key3'], 'value2': ['key2']}\n"
     ]
    }
   ],
   "source": [
    "#TASK 3\n",
    "# key1 : value1, key2 : value2, key3 : value1\n",
    "list_1= input().split(\", \")\n",
    "dict_1= {}\n",
    "dict_2= {}\n",
    "\n",
    "for i in list_1:\n",
    "    if \":\" in i:\n",
    "        list_2= i.split(\" : \")\n",
    "        dict_1[list_2[0]]= list_2[1]\n",
    "            \n",
    "for k,v in dict_1.items():\n",
    "    if v not in dict_2:\n",
    "        dict_2[v]= [k]\n",
    "    else:      \n",
    "        dict_2[v].append(k)\n",
    "        \n",
    "print(dict_2)   "
   ]
  },
  {
   "cell_type": "code",
   "execution_count": 46,
   "id": "73759719",
   "metadata": {},
   "outputs": [
    {
     "name": "stdout",
     "output_type": "stream",
     "text": [
      "evil live\n",
      "Those strings are anagrams.\n"
     ]
    }
   ],
   "source": [
    "#TASK 4\n",
    "str_1 = input()\n",
    "str_2 = \"\"\n",
    "\n",
    "for i in str_1:\n",
    "    if i == \" \":\n",
    "        break\n",
    "    else:\n",
    "        str_2+=i\n",
    "\n",
    "str_3 = str_1[(len(str_2)+1):]    \n",
    "\n",
    "counter = 0\n",
    "for i in str_2:\n",
    "    for j in str_3:\n",
    "        if i == j:\n",
    "            counter+= 1\n",
    "            \n",
    "if counter == len(str_2) and counter == len(str_3):\n",
    "    print(\"Those strings are anagrams.\")"
   ]
  },
  {
   "cell_type": "code",
   "execution_count": 9,
   "id": "d5f97548",
   "metadata": {},
   "outputs": [
    {
     "name": "stdout",
     "output_type": "stream",
     "text": [
      "Hello, World!\n",
      "4433555555666110966677755531111\n"
     ]
    }
   ],
   "source": [
    "#TASK 5\n",
    "str_1= input().upper()\n",
    "dict_1= {0:\" \", 1:\".,?!:\", 2:\"ABC\", 3:\"DEF\", 4:\"GHI\", 5:\"JKL\", 6:\"MNO\", 7:\"PQRS\", 8:\"TUV\", 9:\"WXYZ\"}\n",
    "result= \"\"\n",
    "for i in str_1:\n",
    "    for k,v in dict_1.items():\n",
    "        if i in v:\n",
    "            for j in range(len(v)):\n",
    "                if v[j]== i:\n",
    "                    result+= str(k)* (j+1)\n",
    "print(result)        \n",
    "#using list\n",
    "# list_1 = [\" \", \".,?!:\", \"ABC\", \"DEF\", \"GHI\", \"JKL\", \"MNO\", \"PQRS\", \"TUV\", \"WXYZ\"]\n",
    "# result= \"\"\n",
    "\n",
    "# for i in str_1:\n",
    "#     num= 0\n",
    "#     for j in list_1:\n",
    "#         if i not in j:\n",
    "#             num+= 1\n",
    "#         else:\n",
    "#             str_1= str(num)\n",
    "#             for k in j:\n",
    "#                 if i!= k:\n",
    "#                     str_1+= str(num)\n",
    "#                 else:\n",
    "#                     result+= str_1\n",
    "#                     break\n",
    "# print(result)\n",
    "\n",
    "\n",
    "# str_1 = input().upper()\n",
    "\n",
    "# list_1 = [\" \", \".,?!:\", \"ABC\", \"DEF\", \"GHI\", \"JKL\", \"MNO\", \"PQRS\", \"TUV\", \"WXYZ\"]\n",
    "\n",
    "# index = 0\n",
    "# while index<len(str_1):\n",
    "#     for i in range(0,len(list_1)):\n",
    "#         if str_1[index] in list_1[i]:\n",
    "#             for j in range(0,list_1[i].find(str_1[index])+1):\n",
    "#                 print(i,end = \"\")\n",
    "#             break\n",
    "#     index+=1\n"
   ]
  },
  {
   "cell_type": "code",
   "execution_count": null,
   "id": "8ff0b701",
   "metadata": {},
   "outputs": [],
   "source": []
  },
  {
   "cell_type": "code",
   "execution_count": null,
   "id": "98bb3d47",
   "metadata": {},
   "outputs": [],
   "source": []
  }
 ],
 "metadata": {
  "kernelspec": {
   "display_name": "Python 3 (ipykernel)",
   "language": "python",
   "name": "python3"
  },
  "language_info": {
   "codemirror_mode": {
    "name": "ipython",
    "version": 3
   },
   "file_extension": ".py",
   "mimetype": "text/x-python",
   "name": "python",
   "nbconvert_exporter": "python",
   "pygments_lexer": "ipython3",
   "version": "3.9.7"
  }
 },
 "nbformat": 4,
 "nbformat_minor": 5
}
