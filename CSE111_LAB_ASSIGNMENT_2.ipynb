{
 "cells": [
  {
   "cell_type": "code",
   "execution_count": 14,
   "id": "7cb5a709",
   "metadata": {},
   "outputs": [
    {
     "name": "stdout",
     "output_type": "stream",
     "text": [
      "(0, 5)\n",
      "0\n"
     ]
    }
   ],
   "source": [
    "#TASK 1\n",
    "def shelby(list_1):\n",
    "    for i in range(len(list_1)):\n",
    "        if list_1[i] or list_1[i+1]== \"0\":\n",
    "            return 0\n",
    "        else:\n",
    "            div_1= int(list_1[i])/ int(list_1[i+1])\n",
    "            fdiv_1= int(list_1[i])// int(list_1[i+1])\n",
    "            return div_1-fdiv_1\n",
    "\n",
    "list_1= input()[1:-1].split(\", \")        \n",
    "print(shelby(list_1))"
   ]
  },
  {
   "cell_type": "code",
   "execution_count": 26,
   "id": "635f06a2",
   "metadata": {},
   "outputs": [
    {
     "name": "stdout",
     "output_type": "stream",
     "text": [
      "(175, 96)\n",
      "Score is 31.3. You are Obese\n"
     ]
    }
   ],
   "source": [
    "# TASK 2\n",
    "def BMI(height, weight):\n",
    "    height/= 100\n",
    "    bmi = weight/(height**2)\n",
    "    if bmi< 18.5:\n",
    "        print(\"Score is \", f\"{bmi:.1f}\", \". You are Underweight\", sep=\"\")\n",
    "        \n",
    "    elif 18.5<=bmi<=24.9:\n",
    "        print(\"Score is \", f\"{bmi:.1f}\", \". You are Normal\", sep=\"\")\n",
    "        \n",
    "    elif 25<=bmi<=30:\n",
    "        print(\"Score is \", f\"{bmi:.1f}\", \". You are Overweight\", sep=\"\")\n",
    "        \n",
    "    elif bmi> 30:\n",
    "        print(\"Score is \", f\"{bmi:.1f}\", \". You are Obese\", sep=\"\")    \n",
    "    \n",
    "list_1= input()[1:-1].split(\", \")\n",
    "height= int(list_1[0])\n",
    "weight= int(list_1[1])\n",
    "BMI(height, weight)"
   ]
  },
  {
   "cell_type": "code",
   "execution_count": 21,
   "id": "972785c0",
   "metadata": {},
   "outputs": [
    {
     "name": "stdout",
     "output_type": "stream",
     "text": [
      "(3, 16, 3)\n",
      "45\n"
     ]
    }
   ],
   "source": [
    "#TASK 3\n",
    "def shelby(minimum, maximum, divisor):\n",
    "    num= 0\n",
    "    for i in range(minimum, maximum):\n",
    "        if i%divisor== 0:\n",
    "            num+= i\n",
    "    return num        \n",
    "            \n",
    "list_1= input()[1:-1].split(\", \")\n",
    "minimum= int(list_1[0])\n",
    "maximum= int(list_1[1])\n",
    "divisor= int(list_1[2])\n",
    "print(shelby(minimum, maximum, divisor))"
   ]
  },
  {
   "cell_type": "code",
   "execution_count": 2,
   "id": "26a2be54",
   "metadata": {},
   "outputs": [
    {
     "name": "stdout",
     "output_type": "stream",
     "text": [
      "(‘Beef Burger’, ‘Dhanmondi’)\n",
      "243.6\n"
     ]
    }
   ],
   "source": [
    "#TASK 4\n",
    "def menu_order(burger,place = \"Mohakhali\"):\n",
    "    \n",
    "    meal_cost = 0\n",
    "    if burger ==\"BBQ Chicken Cheese Burger\":\n",
    "        meal_cost = 250\n",
    "    elif burger == \"Beef Burger\":\n",
    "        meal_cost = 170\n",
    "    elif burger == \"Naga Drums\":\n",
    "        meal_cost = 200\n",
    "    \n",
    "    delivery_charge = 0\n",
    "    if place == \"Mohakhali\":\n",
    "        delivery_charge = 40\n",
    "    else:\n",
    "        delivery_charge = 60\n",
    "    \n",
    "    total_price = meal_cost + delivery_charge + 0.08 * meal_cost\n",
    "    return total_price\n",
    "\n",
    "str_1= input()\n",
    "if \",\" not in str_1:\n",
    "    print(menu_order(str_1[2:-2]))\n",
    "else:\n",
    "    list_1= str_1[1:-1].split(\", \")        \n",
    "    burger= list_1[0][1:-1]\n",
    "    place= list_1[1][1:-1]\n",
    "    print(menu_order(burger, place))"
   ]
  },
  {
   "cell_type": "code",
   "execution_count": 15,
   "id": "30977b1e",
   "metadata": {},
   "outputs": [
    {
     "name": "stdout",
     "output_type": "stream",
     "text": [
      "(‘alice@kaaj.com’, ‘sheba.xyz’, ‘kaaj.com’) \n",
      "Changed: alice@sheba.xyz\n"
     ]
    }
   ],
   "source": [
    "#TASK 5\n",
    "def replace_domain(str_1, str_2, str_3= \"\"):  \n",
    "    list_2 = str_1.split(\"@\")            \n",
    "    str_4 = list_2[0]\n",
    "    str_5 = str_4+ \"@\" +str_2                            \n",
    "    if str_1== str_5:\n",
    "        print('Unchanged: ',end = \"\")\n",
    "    else:\n",
    "        print(\"Changed: \",end = \"\")\n",
    "    print(str_5)                              \n",
    "\n",
    "list_1= input()[1:-1].split(\", \")\n",
    "if len(list_1)== 3:    \n",
    "    replace_domain(list_1[0][1:-1], list_1[1][1:-1], list_1[2][1:-1])\n",
    "else:\n",
    "    replace_domain(list_1[0][1:-1], list_1[1][1:-1]) "
   ]
  },
  {
   "cell_type": "code",
   "execution_count": 27,
   "id": "ff45d4e3",
   "metadata": {},
   "outputs": [
    {
     "name": "stdout",
     "output_type": "stream",
     "text": [
      "(Steve Jobs) \n",
      "Vowels: e, e, o. Total number of vowels: 3\n"
     ]
    }
   ],
   "source": [
    "#TASK 6\n",
    "def vowel_checker(str_1):\n",
    "    vowel= []   \n",
    "    num= 0\n",
    "    for i in str_1:\n",
    "        if i in \"aeiouAEIOU\":\n",
    "            vowel.append(i)\n",
    "            num+= 1\n",
    "            \n",
    "    if len(vowel)== 0:\n",
    "        print(\"No vowels in the name\")\n",
    "    else:\n",
    "        print(\"Vowels: \" + \", \".join(vowel) +\". \" + \n",
    "              \"Total number of vowels:\", len(vowel))\n",
    "        \n",
    "str_1= input()\n",
    "vowel_checker(str_1)"
   ]
  },
  {
   "cell_type": "code",
   "execution_count": 23,
   "id": "cef2cc2b",
   "metadata": {},
   "outputs": [
    {
     "name": "stdout",
     "output_type": "stream",
     "text": [
      "‘nurses run’\n",
      "Palindrome\n"
     ]
    }
   ],
   "source": [
    "#TASK 7\n",
    "def palindrome_checker(str_1):\n",
    "    str_2= \"\"\n",
    "    for i in range(len(str_1)-1,-1,-1):\n",
    "        str_2+= str_1[i]    \n",
    "    if str_1== str_2:\n",
    "        print(\"Palindrome\")\n",
    "    else:\n",
    "        print(\"Not a palindrome\")\n",
    "\n",
    "str_1= input().replace(\" \", \"\")[1:-1]\n",
    "palindrome_checker(str_1)"
   ]
  },
  {
   "cell_type": "code",
   "execution_count": 29,
   "id": "de3eff8b",
   "metadata": {},
   "outputs": [
    {
     "name": "stdout",
     "output_type": "stream",
     "text": [
      "(4320)\n",
      "11 years, 10 months and 5 days\n"
     ]
    }
   ],
   "source": [
    "#TASK 8\n",
    "def time_calculator(days):\n",
    "    years= days//365                   \n",
    "    days= days%365    \n",
    "    months= days//30  \n",
    "    days= days%30\n",
    "    print(years, \"years,\", months, \"months and\", days, \"days\")\n",
    "    \n",
    "days= int(input()[1:-1])   \n",
    "time_calculator(days)   "
   ]
  },
  {
   "cell_type": "code",
   "execution_count": 1,
   "id": "b840a293",
   "metadata": {},
   "outputs": [
    {
     "name": "stdout",
     "output_type": "stream",
     "text": [
      "('my favourite animal is a dog. a dog has sharp teeth so that it can eat flesh very easily.  do you know my pet dog’s name? i love my pet very much.')\n",
      "My favourite animal is a dog. A dog has sharp teeth so that it can eat flesh very easily.  Do you know my pet dog’s name? I love my pet very much.\n"
     ]
    }
   ],
   "source": [
    "#TASK 9\n",
    "def capital_checker(str_1):\n",
    "    str_2= \"\"\n",
    "    num= 0\n",
    "    for i in range(len(str_1)):\n",
    "        if i==2:\n",
    "            str_2+= str_1[i].upper()\n",
    "        elif str_1[i] in \".!?\":\n",
    "            str_2+= str_1[i]\n",
    "            num+= 1\n",
    "        elif str_1[i]== \" \" and num==1:\n",
    "            str_2+= \" \"\n",
    "        elif str_1[i]!= \" \" and num==1:\n",
    "            str_2+= str_1[i].upper()\n",
    "            num= 0\n",
    "        elif str_1[i]== \"i\" and str_1[i-1]== \" \" and str_1[i+1]== \" \":\n",
    "            str_2+= str_1[i].upper()\n",
    "        else:\n",
    "            str_2+= str_1[i]       \n",
    "    return str_2[2:-2]\n",
    "      \n",
    "str_1= input()   \n",
    "print(capital_checker(str_1))"
   ]
  },
  {
   "cell_type": "code",
   "execution_count": null,
   "id": "3223b448",
   "metadata": {},
   "outputs": [],
   "source": []
  }
 ],
 "metadata": {
  "kernelspec": {
   "display_name": "Python 3 (ipykernel)",
   "language": "python",
   "name": "python3"
  },
  "language_info": {
   "codemirror_mode": {
    "name": "ipython",
    "version": 3
   },
   "file_extension": ".py",
   "mimetype": "text/x-python",
   "name": "python",
   "nbconvert_exporter": "python",
   "pygments_lexer": "ipython3",
   "version": "3.9.7"
  }
 },
 "nbformat": 4,
 "nbformat_minor": 5
}
