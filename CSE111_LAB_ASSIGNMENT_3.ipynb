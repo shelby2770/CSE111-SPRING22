{
 "cells": [
  {
   "cell_type": "code",
   "execution_count": 7,
   "id": "05ce09d2",
   "metadata": {},
   "outputs": [
    {
     "name": "stdout",
     "output_type": "stream",
     "text": [
      "Integer\n",
      "1234\n",
      "=====================\n",
      "String\n",
      "Hello\n",
      "=====================\n",
      "Float\n",
      "4.0\n"
     ]
    }
   ],
   "source": [
    "#TASK 1\n",
    "class DataType:\n",
    "    def __init__(self, name, value):\n",
    "        self.name= name\n",
    "        self.value= value"
   ]
  },
  {
   "cell_type": "code",
   "execution_count": 4,
   "id": "96aebf56",
   "metadata": {},
   "outputs": [
    {
     "name": "stdout",
     "output_type": "stream",
     "text": [
      "Name of this flower: Rose\n",
      "Color of this flower: Red\n",
      "Number of petal: 6\n",
      "=====================\n",
      "Name of this flower: Orchid\n",
      "Color of this flower: Purple\n",
      "Number of petal: 4\n",
      "Address of flower1: <__main__.Flower object at 0x000001F7DFC90910>\n",
      "Address of flower2: <__main__.Flower object at 0x000001F7DFC9F490>\n",
      "they are different\n"
     ]
    }
   ],
   "source": [
    "#TASK 2\n",
    "class Flower:\n",
    "    def __init__(self):\n",
    "        pass     \n",
    "\n",
    "print(\"Address of flower1:\", flower1)\n",
    "print(\"Address of flower2:\", flower2)\n",
    "print(\"they are different\")"
   ]
  },
  {
   "cell_type": "code",
   "execution_count": 5,
   "id": "f7427440",
   "metadata": {},
   "outputs": [
    {
     "name": "stdout",
     "output_type": "stream",
     "text": [
      "Heath Ledger\n",
      "Mind Game\n",
      "False\n",
      "=====================\n",
      "Joaquin Phoenix\n",
      "Laughing out Loud\n",
      "True\n",
      "=====================\n",
      "different\n",
      "same\n",
      "Heath Ledger\n"
     ]
    }
   ],
   "source": [
    "#TASK 3\n",
    "class Joker:\n",
    "    def __init__(self, name, power, syc):\n",
    "        self.name= name\n",
    "        self.power= power\n",
    "        self.is_he_psycho= syc\n",
    "\n",
    "#Subtask 2 and 3\n",
    "print(\"j1 and j2 refers different objects\")\n",
    "print(\"j1.name and j2.name means same variable mentioned in line 4\")"
   ]
  },
  {
   "cell_type": "code",
   "execution_count": 36,
   "id": "f909a558",
   "metadata": {},
   "outputs": [
    {
     "name": "stdout",
     "output_type": "stream",
     "text": [
      "=======Team 1=======\n",
      "Pokemon 1: pikachu 90\n",
      "Pokemon 2: charmander 60\n",
      "Combined Power: 1500\n",
      "=======Team 2=======\n",
      "Pokemon 1: bulbasaur 80\n",
      "Pokemon 2: squirtle 70\n",
      "Combined Power: 1350\n"
     ]
    }
   ],
   "source": [
    "#TASK 4  \n",
    "class Pokemon:\n",
    "    def __init__(self, pok_1_name, pok_2_name, pok_1_pow, pok_2_pow, dmg):\n",
    "        self.pokemon1_name= pok_1_name\n",
    "        self.pokemon2_name= pok_2_name\n",
    "        self.pokemon1_power= pok_1_pow\n",
    "        self.pokemon2_power= pok_2_pow\n",
    "        self.damage_rate= dmg\n",
    "        \n",
    "team_pika = Pokemon('pikachu', 'charmander', 90, 60, 10)\n",
    "print('=======Team 1=======')\n",
    "print('Pokemon 1:',team_pika.pokemon1_name, team_pika.pokemon1_power)\n",
    "print('Pokemon 2:',team_pika.pokemon2_name, team_pika.pokemon2_power)\n",
    "pika_combined_power = (team_pika.pokemon1_power + team_pika.pokemon2_power) * team_pika.damage_rate\n",
    "print('Combined Power:', pika_combined_power)\n",
    "\n",
    "team_bulb = Pokemon('bulbasaur', 'squirtle', 80, 70, 9)\n",
    "print('=======Team 2=======')\n",
    "print('Pokemon 1:',team_bulb.pokemon1_name,team_bulb.pokemon1_power)\n",
    "print('Pokemon 2:',team_bulb.pokemon2_name,team_bulb.pokemon2_power)\n",
    "pika_combined_power = (team_bulb.pokemon1_power +team_bulb.pokemon2_power) * team_bulb.damage_rate\n",
    "print('Combined Power:', pika_combined_power)"
   ]
  },
  {
   "cell_type": "code",
   "execution_count": 4,
   "id": "8b281f74",
   "metadata": {},
   "outputs": [
    {
     "name": "stdout",
     "output_type": "stream",
     "text": [
      "Name of the Player: Ronaldo\n",
      "Jersey Number of player: 9\n",
      "Position of player: Striker\n",
      "===========================\n",
      "Name of the player: Neuer\n",
      "Jersey Number of player: 1\n",
      "Position of player: Goal Keeper\n"
     ]
    }
   ],
   "source": [
    "#TASK 5\n",
    "class Player:\n",
    "    def __init__(self):\n",
    "        pass "
   ]
  },
  {
   "cell_type": "code",
   "execution_count": 5,
   "id": "e833e4ec",
   "metadata": {},
   "outputs": [
    {
     "name": "stdout",
     "output_type": "stream",
     "text": [
      "Name: Bangladesh\n",
      "Continent: Asia\n",
      "Capital: Dhaka\n",
      "Fifa Ranking: 187\n",
      "===================\n",
      "Name: Belgium\n",
      "Continent: Europe\n",
      "Capital: Brussels\n",
      "Fifa Ranking: 1\n"
     ]
    }
   ],
   "source": [
    "#TASK 6\n",
    "class Country:\n",
    "    def __init__(self):\n",
    "        self.name = 'Bangladesh'\n",
    "        self.continent = 'Asia'\n",
    "        self.capital = 'Dhaka'\n",
    "        self.fifa_ranking = 187"
   ]
  },
  {
   "cell_type": "code",
   "execution_count": 19,
   "id": "5a616e05",
   "metadata": {},
   "outputs": [
    {
     "name": "stdout",
     "output_type": "stream",
     "text": [
      "Name: Tanjiro\n",
      "Fighting Style: Water Breathing\n",
      "Knows 10 technique(s) and has killed 10 demon(s)\n",
      "===================\n",
      "Name: Zenitsu\n",
      "Fighting Style: Thunder Breathing\n",
      "Knows 1 technique(s) and has killed 4 demon(s)\n",
      "===================\n",
      "Name: Inosuke\n",
      "Fighting Style: Beast Breathing\n",
      "Knows 5 technique(s) and has killed 7 demon(s)\n",
      "===================\n",
      "Tanjiro, Zenitsu, Inosuke knows total 16 techniques\n",
      "They have killed total 21 demons\n"
     ]
    }
   ],
   "source": [
    "#TASK 7\n",
    "class DemonSlayer:\n",
    "    def __init__(self, name, style, num, kill):\n",
    "        self.name= name\n",
    "        self.style= style\n",
    "        self.number_of_technique= num\n",
    "        self.kill= kill  "
   ]
  },
  {
   "cell_type": "code",
   "execution_count": 9,
   "id": "aa32822b",
   "metadata": {},
   "outputs": [
    {
     "name": "stdout",
     "output_type": "stream",
     "text": [
      "Box 1\n",
      "Creating a Box!\n",
      "volume of the box is 1000 cubic units\n",
      "=========================\n",
      "Height: 10\n",
      "Width: 10\n",
      "Breadth: 10\n",
      "-------------------------\n",
      "Box 2\n",
      "Creating a Box!\n",
      "volume of the box is 3000 cubic units\n",
      "=========================\n",
      "Height: 30\n",
      "Width: 10\n",
      "Breadth: 10\n",
      "Updating Box 2!\n",
      "Height: 300\n",
      "Width: 10\n",
      "Breadth: 10\n",
      "-------------------------\n",
      "Box 3\n",
      "Height: 300\n",
      "Width: 10\n",
      "Breadth: 10\n"
     ]
    }
   ],
   "source": [
    "#TASK 8\n",
    "class box:\n",
    "    def __init__(self, list_1):\n",
    "        self.height= list_1[0]\n",
    "        self.width= list_1[1]\n",
    "        self.breadth= list_1[2]\n",
    "        print(\"Creating a Box!\")\n",
    "        print(f\"volume of the box is {list_1[0]*list_1[1]*list_1[2]} cubic units\")"
   ]
  },
  {
   "cell_type": "code",
   "execution_count": 9,
   "id": "0d838717",
   "metadata": {},
   "outputs": [
    {
     "name": "stdout",
     "output_type": "stream",
     "text": [
      "CANCEL Button Specifications:\n",
      "Button name: CANCEL\n",
      "Number of the border characters for the top and the bottom: 28\n",
      "Number of spaces between the left side border and the first character of the button name: 10\n",
      "Number of spaces between the right side border and the last character of the button name: 10\n",
      "Characters representing the borders: x\n",
      "xxxxxxxxxxxxxxxxxxxxxxxxxxxx\n",
      "x          CANCEL          x\n",
      "xxxxxxxxxxxxxxxxxxxxxxxxxxxx\n",
      "=======================================================\n",
      "Notify Button Specifications:\n",
      "Button name: Notify\n",
      "Number of the border characters for the top and the bottom: 14\n",
      "Number of spaces between the left side border and the first character of the button name: 3\n",
      "Number of spaces between the right side border and the last character of the button name: 3\n",
      "Characters representing the borders: !\n",
      "!!!!!!!!!!!!!!\n",
      "!   Notify   !\n",
      "!!!!!!!!!!!!!!\n",
      "=======================================================\n",
      "SAVE PROGRESS Button Specifications:\n",
      "Button name: SAVE PROGRESS\n",
      "Number of the border characters for the top and the bottom: 25\n",
      "Number of spaces between the left side border and the first character of the button name: 5\n",
      "Number of spaces between the right side border and the last character of the button name: 5\n",
      "Characters representing the borders: $\n",
      "$$$$$$$$$$$$$$$$$$$$$$$$$\n",
      "$     SAVE PROGRESS     $\n",
      "$$$$$$$$$$$$$$$$$$$$$$$$$\n"
     ]
    }
   ],
   "source": [
    "#TASK 9\n",
    "class buttons:\n",
    "        def __init__(self, word, spaces, border):\n",
    "            num_1= spaces*2+ len(word)+ 2\n",
    "            print(f\"{word} Button Specifications:\\nButton name: {word}\\n\\\n",
    "Number of the border characters for the top and the bottom: {len(num_1*border)}\\n\\\n",
    "Number of spaces between the left side border and the first character of the button name: {spaces}\\n\\\n",
    "Number of spaces between the right side border and the last character of the button name: {spaces}\\n\\\n",
    "Characters representing the borders: {border}\")            \n",
    "            print(num_1*border)\n",
    "            print(border+ \" \"*spaces+ word+ \" \"*spaces+ border)\n",
    "            print(num_1*border)"
   ]
  },
  {
   "cell_type": "code",
   "execution_count": null,
   "id": "32c770d9",
   "metadata": {},
   "outputs": [],
   "source": [
    "#TASK 10\n",
    "print(\"Part 2:\")\n",
    "wadiya.name = \"Donald Trump\"\n",
    "wadiya.designation = \"President\"\n",
    "wadiya.number_of_wife = 1\n",
    "wadiya.dictator = False \n",
    "print(\"Name of President:\", wadiya.name)\n",
    "print(\"Designation:\", wadiya.designation)\n",
    "print(\"Number of wife:\", wadiya.number_of_wife)\n",
    "print(\"Is he/she a dictator:\", wadiya.dictator) \n",
    "\n",
    "print(\"previous information lost\")"
   ]
  },
  {
   "cell_type": "code",
   "execution_count": 16,
   "id": "a4d227db",
   "metadata": {},
   "outputs": [
    {
     "name": "stdout",
     "output_type": "stream",
     "text": [
      "21\n",
      "5.5\n",
      "2.5\n",
      "42\n",
      "42\n",
      "5.5\n",
      "84\n",
      "11.0\n",
      "168\n",
      "168\n"
     ]
    }
   ],
   "source": [
    "#TASK 11\n",
    "class Human:\n",
    "    def __init__(self):\n",
    "        self.age = 0\n",
    "        self.height = 0.0\n",
    "\n",
    "\n",
    "h1 = Human()\n",
    "h2 = Human()\n",
    "h1.age = 21\n",
    "h1.height = 5.5\n",
    "print(h1.age)\n",
    "print(h1.height)\n",
    "h2.height = h1.height - 3\n",
    "print(h2.height)\n",
    "h2.age = h1.age\n",
    "h1.age += h1.age\n",
    "print(h1.age)\n",
    "h2 = h1\n",
    "print(h2.age)\n",
    "print(h2.height)\n",
    "h1.age += h1.age\n",
    "h2.height += h2.height\n",
    "print(h1.age)\n",
    "print(h1.height)\n",
    "h2.age += h2.age\n",
    "h1.age = h2.age\n",
    "print(h2.age)"
   ]
  },
  {
   "cell_type": "code",
   "execution_count": 1,
   "id": "b6aead5f",
   "metadata": {},
   "outputs": [
    {
     "name": "stdout",
     "output_type": "stream",
     "text": [
      "None\n"
     ]
    },
    {
     "ename": "AttributeError",
     "evalue": "'Student' object has no attribute 'copy'",
     "output_type": "error",
     "traceback": [
      "\u001b[1;31m---------------------------------------------------------------------------\u001b[0m",
      "\u001b[1;31mAttributeError\u001b[0m                            Traceback (most recent call last)",
      "\u001b[1;32m~\\AppData\\Local\\Temp/ipykernel_7520/2920511982.py\u001b[0m in \u001b[0;36m<module>\u001b[1;34m\u001b[0m\n\u001b[0;32m     10\u001b[0m \u001b[0ms1\u001b[0m\u001b[1;33m.\u001b[0m\u001b[0mname\u001b[0m \u001b[1;33m=\u001b[0m \u001b[1;34m\"Student One\"\u001b[0m\u001b[1;33m\u001b[0m\u001b[1;33m\u001b[0m\u001b[0m\n\u001b[0;32m     11\u001b[0m \u001b[0ms1\u001b[0m\u001b[1;33m.\u001b[0m\u001b[0mcgpa\u001b[0m \u001b[1;33m=\u001b[0m \u001b[1;36m2.3\u001b[0m\u001b[1;33m\u001b[0m\u001b[1;33m\u001b[0m\u001b[0m\n\u001b[1;32m---> 12\u001b[1;33m \u001b[0ms3\u001b[0m \u001b[1;33m=\u001b[0m \u001b[0ms1\u001b[0m\u001b[1;33m.\u001b[0m\u001b[0mcopy\u001b[0m\u001b[1;33m(\u001b[0m\u001b[1;33m)\u001b[0m\u001b[1;33m\u001b[0m\u001b[1;33m\u001b[0m\u001b[0m\n\u001b[0m\u001b[0;32m     13\u001b[0m \u001b[0ms2\u001b[0m\u001b[1;33m.\u001b[0m\u001b[0mname\u001b[0m \u001b[1;33m=\u001b[0m \u001b[1;34m\"Student Two\"\u001b[0m\u001b[1;33m\u001b[0m\u001b[1;33m\u001b[0m\u001b[0m\n\u001b[0;32m     14\u001b[0m \u001b[0ms2\u001b[0m\u001b[1;33m.\u001b[0m\u001b[0mcgpa\u001b[0m \u001b[1;33m=\u001b[0m \u001b[0ms3\u001b[0m\u001b[1;33m.\u001b[0m\u001b[0mcgpa\u001b[0m \u001b[1;33m+\u001b[0m \u001b[1;36m1\u001b[0m\u001b[1;33m\u001b[0m\u001b[1;33m\u001b[0m\u001b[0m\n",
      "\u001b[1;31mAttributeError\u001b[0m: 'Student' object has no attribute 'copy'"
     ]
    }
   ],
   "source": [
    "#TASK 12\n",
    "class Student:\n",
    "    def __init__(self):\n",
    "        self.name = None\n",
    "        self.cgpa = 0.0\n",
    "s1 = Student()\n",
    "s2 = Student()\n",
    "s3 = None\n",
    "print(s3)\n",
    "s1.name = \"Student One\"\n",
    "s1.cgpa = 2.3\n",
    "s3 = s1\n",
    "s2.name = \"Student Two\"\n",
    "s2.cgpa = s3.cgpa + 1\n",
    "s3.name = \"New Student\"\n",
    "print(s1.name)\n",
    "print(s2.name)\n",
    "print(s3.name)\n",
    "print(s1.cgpa)\n",
    "print(s2.cgpa)\n",
    "print(s3.cgpa)\n",
    "print(s3)\n",
    "s3 = s2\n",
    "s1.name = \"old student\"\n",
    "s2.name = \"older student\"\n",
    "s3.name = \"oldest student\"\n",
    "s2.cgpa = s1.cgpa - s3.cgpa + 4.5\n",
    "print(s1.name)\n",
    "print(s2.name)\n",
    "print(s3.name)\n",
    "print(s1.cgpa)\n",
    "print(s2.cgpa)\n",
    "print(s3.cgpa)\n",
    "print(s3)"
   ]
  },
  {
   "cell_type": "code",
   "execution_count": 14,
   "id": "d7b33db0",
   "metadata": {},
   "outputs": [
    {
     "name": "stdout",
     "output_type": "stream",
     "text": [
      "1\n",
      "95.0\n",
      "93.0\n",
      "2\n",
      "2\n",
      "93.0\n",
      "1\n",
      "96.0\n",
      "1\n",
      "93.0\n"
     ]
    }
   ],
   "source": [
    "#TASK 14\n",
    "class Ninja:\n",
    "    def __init__(self):\n",
    "        self.rank = 0\n",
    "        self.stamina = 0.0\n",
    "\n",
    "\n",
    "naruto = Ninja()\n",
    "yellow_flash = Ninja()\n",
    "naruto.rank = 1\n",
    "naruto.stamina = 95.0\n",
    "print(naruto.rank)\n",
    "print(naruto.stamina)\n",
    "yellow_flash.stamina = naruto.stamina - 2\n",
    "print(yellow_flash.stamina)\n",
    "yellow_flash.rank += (naruto.rank + 1)\n",
    "print(yellow_flash.rank)\n",
    "minato = yellow_flash\n",
    "print(minato.rank)\n",
    "print(minato.stamina)\n",
    "naruto.rank = minato.rank - 1\n",
    "naruto.stamina = yellow_flash.stamina + 3\n",
    "print(naruto.rank)\n",
    "print(naruto.stamina)\n",
    "naruto.rank = -(-naruto.rank)\n",
    "yellow_flash.stamina = -(-minato.stamina)\n",
    "print(naruto.rank)\n",
    "print(minato.stamina)"
   ]
  },
  {
   "cell_type": "code",
   "execution_count": 2,
   "id": "50bc7a89",
   "metadata": {},
   "outputs": [
    {
     "ename": "TabError",
     "evalue": "inconsistent use of tabs and spaces in indentation (Temp/ipykernel_7520/1655327180.py, line 6)",
     "output_type": "error",
     "traceback": [
      "\u001b[1;36m  File \u001b[1;32m\"C:\\Users\\Asus\\AppData\\Local\\Temp/ipykernel_7520/1655327180.py\"\u001b[1;36m, line \u001b[1;32m6\u001b[0m\n\u001b[1;33m    print(\"Yes\")\u001b[0m\n\u001b[1;37m                ^\u001b[0m\n\u001b[1;31mTabError\u001b[0m\u001b[1;31m:\u001b[0m inconsistent use of tabs and spaces in indentation\n"
     ]
    }
   ],
   "source": [
    "num= int(input())\n",
    "for i in range(num):\n",
    "    n=int(input())\n",
    "    lis=list(map(int,input().split()))\n",
    "    if sum(lis)%2==0 and (n%2==0 or 1 in lis):\n",
    "        print(\"Yes\")\n",
    "    else:\n",
    "        print(\"No\")"
   ]
  },
  {
   "cell_type": "markdown",
   "id": "b8976618",
   "metadata": {},
   "source": []
  },
  {
   "cell_type": "code",
   "execution_count": null,
   "id": "7d9a427a",
   "metadata": {},
   "outputs": [],
   "source": []
  }
 ],
 "metadata": {
  "kernelspec": {
   "display_name": "Python 3 (ipykernel)",
   "language": "python",
   "name": "python3"
  },
  "language_info": {
   "codemirror_mode": {
    "name": "ipython",
    "version": 3
   },
   "file_extension": ".py",
   "mimetype": "text/x-python",
   "name": "python",
   "nbconvert_exporter": "python",
   "pygments_lexer": "ipython3",
   "version": "3.9.7"
  }
 },
 "nbformat": 4,
 "nbformat_minor": 5
}
